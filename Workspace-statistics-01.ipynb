{
 "cells": [
  {
   "cell_type": "code",
   "execution_count": 1,
   "metadata": {
    "collapsed": true
   },
   "outputs": [],
   "source": [
    "import numpy as np\n",
    "import scipy.stats\n",
    "import math"
   ]
  },
  {
   "cell_type": "markdown",
   "metadata": {
    "collapsed": true
   },
   "source": [
    "Рассчитайте 99% доверительный интервал для следующего примера:\n",
    "\n",
    "x¯=10\n",
    "\n",
    "sd=5\n",
    "\n",
    "n=100\n",
    "\n",
    "<img src=\"files/ci.png\" />"
   ]
  },
  {
   "cell_type": "code",
   "execution_count": 2,
   "metadata": {
    "collapsed": true
   },
   "outputs": [],
   "source": [
    "def confidence_interval(sd, X, N, target_interval):\n",
    "    '''\n",
    "    Поиск доверительного интервала\n",
    "    target_interval - точность (обычно 95% - 99%)\n",
    "    N - выборка\n",
    "    sd - среднее отклонение\n",
    "    X - среднее\n",
    "    '''\n",
    "    alpha = 1 - target_interval\n",
    "    z = abs(scipy.stats.norm.ppf(alpha/2))\n",
    "    se = sd / math.sqrt(N)\n",
    "    return (round(X - z * se, 2), round(X + z * se, 2))"
   ]
  },
  {
   "cell_type": "code",
   "execution_count": 3,
   "metadata": {},
   "outputs": [
    {
     "data": {
      "text/plain": [
       "(8.71, 11.29)"
      ]
     },
     "execution_count": 3,
     "metadata": {},
     "output_type": "execute_result"
    }
   ],
   "source": [
    "confidence_interval(5, 10, 100, 0.99)"
   ]
  },
  {
   "cell_type": "markdown",
   "metadata": {},
   "source": [
    "<img src=\"files/di_test.png\" />"
   ]
  },
  {
   "cell_type": "code",
   "execution_count": 4,
   "metadata": {},
   "outputs": [
    {
     "data": {
      "text/plain": [
       "(17.52, 19.48)"
      ]
     },
     "execution_count": 4,
     "metadata": {},
     "output_type": "execute_result"
    }
   ],
   "source": [
    "confidence_interval(4, 18.5, 64, 0.95)"
   ]
  },
  {
   "cell_type": "markdown",
   "metadata": {},
   "source": [
    "<img src=\"files/tv-task.png\" />"
   ]
  },
  {
   "cell_type": "code",
   "execution_count": 5,
   "metadata": {},
   "outputs": [
    {
     "name": "stdout",
     "output_type": "stream",
     "text": [
      "(84.82, 94.98)\n",
      "(84.61, 95.19)\n"
     ]
    }
   ],
   "source": [
    "# use previous method\n",
    "print(confidence_interval(11.3, 89.9, 19, 0.95))\n",
    "\n",
    "# and use t-value\n",
    "print(round(89.9 - 2.093 * 11.3 / math.sqrt(20), 2), round(89.9 + 2.093 * 11.3 / math.sqrt(20), 2))"
   ]
  },
  {
   "cell_type": "markdown",
   "metadata": {},
   "source": [
    "# A one-way ANOVA"
   ]
  },
  {
   "cell_type": "code",
   "execution_count": 6,
   "metadata": {},
   "outputs": [
    {
     "data": {
      "text/plain": [
       "<matplotlib.axes._subplots.AxesSubplot at 0x7f42c0f28690>"
      ]
     },
     "execution_count": 6,
     "metadata": {},
     "output_type": "execute_result"
    },
    {
     "data": {
      "image/png": "[encoded data removed]",
      "text/plain": [
       "<matplotlib.figure.Figure at 0x7f42c11d3d90>"
      ]
     },
     "metadata": {},
     "output_type": "display_data"
    }
   ],
   "source": [
    "import pandas as pd\n",
    "%matplotlib inline\n",
    "\n",
    "data = pd.read_csv('data/genetherapy.csv', sep=',')\n",
    "data.boxplot('expr', by='Therapy', figsize=(12, 8), grid=True)"
   ]
  },
  {
   "cell_type": "code",
   "execution_count": 7,
   "metadata": {},
   "outputs": [
    {
     "name": "stdout",
     "output_type": "stream",
     "text": [
      "['A', 'C', 'B', 'D']\n"
     ]
    }
   ],
   "source": [
    "grps = pd.unique(data.Therapy.values)\n",
    "d_data = { grp:data['expr'][data.Therapy == grp] for grp in grps }\n",
    "print(d_data.keys())"
   ]
  },
  {
   "cell_type": "code",
   "execution_count": 8,
   "metadata": {},
   "outputs": [
    {
     "name": "stdout",
     "output_type": "stream",
     "text": [
      "(8.0373024811439908, 0.00015249722895229536)\n"
     ]
    }
   ],
   "source": [
    "F, p = scipy.stats.f_oneway(d_data['A'], d_data['B'], d_data['C'], d_data['D'])\n",
    "print((F, p))"
   ]
  },
  {
   "cell_type": "markdown",
   "metadata": {},
   "source": [
    "# A 2-way ANOVA"
   ]
  },
  {
   "cell_type": "code",
   "execution_count": 9,
   "metadata": {},
   "outputs": [
    {
     "name": "stderr",
     "output_type": "stream",
     "text": [
      "/home/artem/.virtualenvs/research/local/lib/python2.7/site-packages/statsmodels/compat/pandas.py:56: FutureWarning:\n",
      "\n",
      "The pandas.core.datetools module is deprecated and will be removed in a future version. Please use the pandas.tseries module instead.\n",
      "\n"
     ]
    }
   ],
   "source": [
    "import plotly.plotly as py\n",
    "import plotly.graph_objs as go\n",
    "from plotly.tools import FigureFactory as FF\n",
    "\n",
    "import numpy as np\n",
    "import pandas as pd\n",
    "import scipy\n",
    "\n",
    "import statsmodels\n",
    "import statsmodels.api as sm\n",
    "from statsmodels.formula.api import ols\n",
    "\n",
    "import warnings\n",
    "warnings.filterwarnings('ignore')"
   ]
  },
  {
   "cell_type": "code",
   "execution_count": 10,
   "metadata": {},
   "outputs": [
    {
     "name": "stdout",
     "output_type": "stream",
     "text": [
      "                     sum_sq    df         F    PR(>F)\n",
      "C(age)           197.452754   1.0  7.449841  0.008313\n",
      "C(dose)           16.912241   1.0  0.638094  0.427552\n",
      "C(age):C(dose)     0.927077   1.0  0.034978  0.852272\n",
      "Residual        1590.257424  60.0       NaN       NaN\n"
     ]
    },
    {
     "data": {
      "text/plain": [
       "<matplotlib.axes._subplots.AxesSubplot at 0x7f42bc1c5790>"
      ]
     },
     "execution_count": 10,
     "metadata": {},
     "output_type": "execute_result"
    },
    {
     "data": {
      "image/png": "[encoded data removed]",
      "text/plain": [
       "<matplotlib.figure.Figure at 0x7f42bc210b90>"
      ]
     },
     "metadata": {},
     "output_type": "display_data"
    }
   ],
   "source": [
    "data = pd.read_csv('data/atherosclerosis.csv')\n",
    "\n",
    "formula = 'expr ~ C(age) + C(dose) + C(age):C(dose)'\n",
    "model = ols(formula, data).fit()\n",
    "aov_table = statsmodels.stats.anova.anova_lm(model, typ=2)\n",
    "print(aov_table)\n",
    "data.boxplot('expr', by=['age', 'dose'], figsize=(12, 8), grid=True)"
   ]
  },
  {
   "cell_type": "code",
   "execution_count": 11,
   "metadata": {},
   "outputs": [
    {
     "name": "stdout",
     "output_type": "stream",
     "text": [
      "                       sum_sq    df         F    PR(>F)\n",
      "C(hormone)           0.847472   1.0  0.086528  0.769653\n",
      "C(sex)               0.119762   1.0  0.012228  0.912318\n",
      "C(hormone):C(sex)   89.483384   1.0  9.136390  0.003682\n",
      "Residual           587.650394  60.0       NaN       NaN\n"
     ]
    },
    {
     "data": {
      "text/plain": [
       "<matplotlib.axes._subplots.AxesSubplot at 0x7f42bc175c10>"
      ]
     },
     "execution_count": 11,
     "metadata": {},
     "output_type": "execute_result"
    },
    {
     "data": {
      "image/png": "[encoded data removed]",
      "text/plain": [
       "<matplotlib.figure.Figure at 0x7f42c0e03c90>"
      ]
     },
     "metadata": {},
     "output_type": "display_data"
    }
   ],
   "source": [
    "data = pd.read_csv('data/birds.csv')\n",
    "\n",
    "formula = 'var4 ~ C(hormone) + C(sex) + C(hormone):C(sex)'\n",
    "model = ols(formula, data).fit()\n",
    "aov_table = statsmodels.stats.anova.anova_lm(model, typ=2)\n",
    "print(aov_table)\n",
    "data.boxplot('var4', by=['hormone', 'sex'], figsize=(12, 8), grid=True)"
   ]
  },
  {
   "cell_type": "markdown",
   "metadata": {
    "collapsed": true
   },
   "source": [
    "<img src=\"files/korelation.png\" />"
   ]
  },
  {
   "cell_type": "code",
   "execution_count": 12,
   "metadata": {},
   "outputs": [
    {
     "name": "stdout",
     "output_type": "stream",
     "text": [
      "Scipy result: -1.000000\n",
      "Numpy result: -1.000000\n"
     ]
    },
    {
     "data": {
      "text/plain": [
       "[<matplotlib.lines.Line2D at 0x7f42bbe74150>]"
      ]
     },
     "execution_count": 12,
     "metadata": {},
     "output_type": "execute_result"
    },
    {
     "data": {
      "image/png": "[encoded data removed]",
      "text/plain": [
       "<matplotlib.figure.Figure at 0x7f42bc01a8d0>"
      ]
     },
     "metadata": {},
     "output_type": "display_data"
    }
   ],
   "source": [
    "import matplotlib.pyplot as plt\n",
    "\n",
    "x = [4, 5, 2, 3, 1]\n",
    "y = [2, 1, 4, 3, 5]\n",
    "\n",
    "print(\"Scipy result: %f\" % scipy.stats.pearsonr(x, y)[0])\n",
    "print(\"Numpy result: %f\" % np.corrcoef(x, y)[0, 1])\n",
    "\n",
    "plt.plot(x, y, 'o')"
   ]
  },
  {
   "cell_type": "markdown",
   "metadata": {},
   "source": [
    "# Линейная регрессия"
   ]
  },
  {
   "cell_type": "markdown",
   "metadata": {},
   "source": [
    "<img src=\"files/метод наименьших квадратов.png\" />"
   ]
  },
  {
   "cell_type": "code",
   "execution_count": 13,
   "metadata": {
    "collapsed": true
   },
   "outputs": [],
   "source": [
    "# first task in regression module:"
   ]
  },
  {
   "cell_type": "markdown",
   "metadata": {},
   "source": [
    "<img src=\"files/regression_task1.png\" />"
   ]
  },
  {
   "cell_type": "code",
   "execution_count": 14,
   "metadata": {},
   "outputs": [
    {
     "name": "stdout",
     "output_type": "stream",
     "text": [
      "0.6\n"
     ]
    }
   ],
   "source": [
    "# sdx = math.sqrt(Dx)\n",
    "b1 = (math.sqrt(36) / math.sqrt(25)) * 0.5\n",
    "\n",
    "print(b1)"
   ]
  },
  {
   "cell_type": "markdown",
   "metadata": {
    "collapsed": true
   },
   "source": [
    "# Применение регрессионного анализа\n",
    "\n",
    "с одной независимой переменной"
   ]
  },
  {
   "cell_type": "code",
   "execution_count": 110,
   "metadata": {},
   "outputs": [
    {
     "data": {
      "text/html": [
       "<div>\n",
       "<style>\n",
       "    .dataframe thead tr:only-child th {\n",
       "        text-align: right;\n",
       "    }\n",
       "\n",
       "    .dataframe thead th {\n",
       "        text-align: left;\n",
       "    }\n",
       "\n",
       "    .dataframe tbody tr th {\n",
       "        vertical-align: top;\n",
       "    }\n",
       "</style>\n",
       "<table border=\"1\" class=\"dataframe\">\n",
       "  <thead>\n",
       "    <tr style=\"text-align: right;\">\n",
       "      <th></th>\n",
       "      <th>state</th>\n",
       "      <th>metro_res</th>\n",
       "      <th>white</th>\n",
       "      <th>hs_grad</th>\n",
       "      <th>poverty</th>\n",
       "      <th>female_house</th>\n",
       "    </tr>\n",
       "  </thead>\n",
       "  <tbody>\n",
       "    <tr>\n",
       "      <th>0</th>\n",
       "      <td>Alabama</td>\n",
       "      <td>55.4</td>\n",
       "      <td>71.3</td>\n",
       "      <td>79.9</td>\n",
       "      <td>14.6</td>\n",
       "      <td>14.2</td>\n",
       "    </tr>\n",
       "    <tr>\n",
       "      <th>1</th>\n",
       "      <td>Alaska</td>\n",
       "      <td>65.6</td>\n",
       "      <td>70.8</td>\n",
       "      <td>90.6</td>\n",
       "      <td>8.3</td>\n",
       "      <td>10.8</td>\n",
       "    </tr>\n",
       "    <tr>\n",
       "      <th>2</th>\n",
       "      <td>Arizona</td>\n",
       "      <td>88.2</td>\n",
       "      <td>87.7</td>\n",
       "      <td>83.8</td>\n",
       "      <td>13.3</td>\n",
       "      <td>11.1</td>\n",
       "    </tr>\n",
       "  </tbody>\n",
       "</table>\n",
       "</div>"
      ],
      "text/plain": [
       "     state  metro_res  white  hs_grad  poverty  female_house\n",
       "0  Alabama       55.4   71.3     79.9     14.6          14.2\n",
       "1   Alaska       65.6   70.8     90.6      8.3          10.8\n",
       "2  Arizona       88.2   87.7     83.8     13.3          11.1"
      ]
     },
     "execution_count": 110,
     "metadata": {},
     "output_type": "execute_result"
    }
   ],
   "source": [
    "data = pd.read_csv('data/states.csv')\n",
    "data[0:3]\n",
    "# metro_res - does it big city or megapolis\n",
    "# white - percent of white people\n",
    "# hs_grad - was graduated\n",
    "# poverty - how pure is people\n",
    "# female_house - how many female is unemployed."
   ]
  },
  {
   "cell_type": "code",
   "execution_count": 121,
   "metadata": {},
   "outputs": [
    {
     "name": "stdout",
     "output_type": "stream",
     "text": [
      "b1 is: -0.621217\n"
     ]
    },
    {
     "data": {
      "image/png": "[encoded data removed]",
      "text/plain": [
       "<matplotlib.figure.Figure at 0x7f42ba2c18d0>"
      ]
     },
     "metadata": {},
     "output_type": "display_data"
    }
   ],
   "source": [
    "from scipy.stats import linregress\n",
    "\n",
    "slope, intercept, r_value, p_value, std_err = linregress(data['hs_grad'], data['poverty'])\n",
    "\n",
    "print(\"b1 is: %f\" % slope)\n",
    "\n",
    "plt.title(\"Linear regression model\")\n",
    "plt.xlabel(\"hs_grad\")\n",
    "plt.ylabel(\"poverty\")\n",
    "plt.plot(data['hs_grad'], data['poverty'], 'o', markersize=\"8\", label='data')\n",
    "plt.plot(data['hs_grad'], intercept + slope*data['hs_grad'], 'r', label='fitted line')\n",
    "plt.legend()\n",
    "plt.show()"
   ]
  },
  {
   "cell_type": "markdown",
   "metadata": {},
   "source": [
    "# Множественная регресссия"
   ]
  },
  {
   "cell_type": "code",
   "execution_count": 131,
   "metadata": {},
   "outputs": [
    {
     "data": {
      "text/html": [
       "<div>\n",
       "<style>\n",
       "    .dataframe thead tr:only-child th {\n",
       "        text-align: right;\n",
       "    }\n",
       "\n",
       "    .dataframe thead th {\n",
       "        text-align: left;\n",
       "    }\n",
       "\n",
       "    .dataframe tbody tr th {\n",
       "        vertical-align: top;\n",
       "    }\n",
       "</style>\n",
       "<table border=\"1\" class=\"dataframe\">\n",
       "  <thead>\n",
       "    <tr style=\"text-align: right;\">\n",
       "      <th></th>\n",
       "      <th>state</th>\n",
       "      <th>metro_res</th>\n",
       "      <th>white</th>\n",
       "      <th>hs_grad</th>\n",
       "      <th>poverty</th>\n",
       "      <th>female_house</th>\n",
       "    </tr>\n",
       "  </thead>\n",
       "  <tbody>\n",
       "    <tr>\n",
       "      <th>0</th>\n",
       "      <td>Alabama</td>\n",
       "      <td>55.4</td>\n",
       "      <td>71.3</td>\n",
       "      <td>79.9</td>\n",
       "      <td>14.6</td>\n",
       "      <td>14.2</td>\n",
       "    </tr>\n",
       "    <tr>\n",
       "      <th>1</th>\n",
       "      <td>Alaska</td>\n",
       "      <td>65.6</td>\n",
       "      <td>70.8</td>\n",
       "      <td>90.6</td>\n",
       "      <td>8.3</td>\n",
       "      <td>10.8</td>\n",
       "    </tr>\n",
       "    <tr>\n",
       "      <th>2</th>\n",
       "      <td>Arizona</td>\n",
       "      <td>88.2</td>\n",
       "      <td>87.7</td>\n",
       "      <td>83.8</td>\n",
       "      <td>13.3</td>\n",
       "      <td>11.1</td>\n",
       "    </tr>\n",
       "    <tr>\n",
       "      <th>3</th>\n",
       "      <td>Arkansas</td>\n",
       "      <td>52.5</td>\n",
       "      <td>81.0</td>\n",
       "      <td>80.9</td>\n",
       "      <td>18.0</td>\n",
       "      <td>12.1</td>\n",
       "    </tr>\n",
       "    <tr>\n",
       "      <th>4</th>\n",
       "      <td>California</td>\n",
       "      <td>94.4</td>\n",
       "      <td>77.5</td>\n",
       "      <td>81.1</td>\n",
       "      <td>12.8</td>\n",
       "      <td>12.6</td>\n",
       "    </tr>\n",
       "  </tbody>\n",
       "</table>\n",
       "</div>"
      ],
      "text/plain": [
       "        state  metro_res  white  hs_grad  poverty  female_house\n",
       "0     Alabama       55.4   71.3     79.9     14.6          14.2\n",
       "1      Alaska       65.6   70.8     90.6      8.3          10.8\n",
       "2     Arizona       88.2   87.7     83.8     13.3          11.1\n",
       "3    Arkansas       52.5   81.0     80.9     18.0          12.1\n",
       "4  California       94.4   77.5     81.1     12.8          12.6"
      ]
     },
     "execution_count": 131,
     "metadata": {},
     "output_type": "execute_result"
    }
   ],
   "source": [
    "data.head()"
   ]
  },
  {
   "cell_type": "code",
   "execution_count": 165,
   "metadata": {},
   "outputs": [
    {
     "data": {
      "text/plain": [
       "<matplotlib.axes._subplots.AxesSubplot at 0x7f42b72c0a90>"
      ]
     },
     "execution_count": 165,
     "metadata": {},
     "output_type": "execute_result"
    },
    {
     "data": {
      "image/png": "[encoded data removed]",
      "text/plain": [
       "<matplotlib.figure.Figure at 0x7f42b77142d0>"
      ]
     },
     "metadata": {},
     "output_type": "display_data"
    }
   ],
   "source": [
    "fig, axs = plt.subplots(1, 4, sharey=False)\n",
    "data.plot(kind='scatter', x='poverty', y='hs_grad', ax=axs[0], figsize=(22, 8))\n",
    "data.plot(kind='scatter', x='poverty', y='white', ax=axs[1])\n",
    "data.plot(kind='scatter', x='poverty', y='female_house', ax=axs[2])\n",
    "data.plot(kind='scatter', x='poverty', y='metro_res', ax=axs[3])"
   ]
  },
  {
   "cell_type": "code",
   "execution_count": 160,
   "metadata": {},
   "outputs": [
    {
     "data": {
      "text/plain": [
       "Intercept       66.476525\n",
       "metro_res       -0.056323\n",
       "white           -0.048144\n",
       "hs_grad         -0.554713\n",
       "female_house     0.050543\n",
       "dtype: float64"
      ]
     },
     "execution_count": 160,
     "metadata": {},
     "output_type": "execute_result"
    }
   ],
   "source": [
    "import statsmodels.formula.api as smf\n",
    "\n",
    "# create a fitted model with all three features\n",
    "lm = smf.ols(formula='poverty ~ metro_res + white + hs_grad + female_house', data=data).fit()\n",
    "\n",
    "# print the coefficients\n",
    "lm.params"
   ]
  },
  {
   "cell_type": "code",
   "execution_count": 161,
   "metadata": {},
   "outputs": [
    {
     "data": {
      "text/html": [
       "<table class=\"simpletable\">\n",
       "<caption>OLS Regression Results</caption>\n",
       "<tr>\n",
       "  <th>Dep. Variable:</th>         <td>poverty</td>     <th>  R-squared:         </th> <td>   0.642</td>\n",
       "</tr>\n",
       "<tr>\n",
       "  <th>Model:</th>                   <td>OLS</td>       <th>  Adj. R-squared:    </th> <td>   0.610</td>\n",
       "</tr>\n",
       "<tr>\n",
       "  <th>Method:</th>             <td>Least Squares</td>  <th>  F-statistic:       </th> <td>   20.58</td>\n",
       "</tr>\n",
       "<tr>\n",
       "  <th>Date:</th>             <td>Thu, 18 May 2017</td> <th>  Prob (F-statistic):</th> <td>8.88e-10</td>\n",
       "</tr>\n",
       "<tr>\n",
       "  <th>Time:</th>                 <td>17:09:45</td>     <th>  Log-Likelihood:    </th> <td> -103.39</td>\n",
       "</tr>\n",
       "<tr>\n",
       "  <th>No. Observations:</th>      <td>    51</td>      <th>  AIC:               </th> <td>   216.8</td>\n",
       "</tr>\n",
       "<tr>\n",
       "  <th>Df Residuals:</th>          <td>    46</td>      <th>  BIC:               </th> <td>   226.4</td>\n",
       "</tr>\n",
       "<tr>\n",
       "  <th>Df Model:</th>              <td>     4</td>      <th>                     </th>     <td> </td>   \n",
       "</tr>\n",
       "<tr>\n",
       "  <th>Covariance Type:</th>      <td>nonrobust</td>    <th>                     </th>     <td> </td>   \n",
       "</tr>\n",
       "</table>\n",
       "<table class=\"simpletable\">\n",
       "<tr>\n",
       "        <td></td>          <th>coef</th>     <th>std err</th>      <th>t</th>      <th>P>|t|</th>  <th>[0.025</th>    <th>0.975]</th>  \n",
       "</tr>\n",
       "<tr>\n",
       "  <th>Intercept</th>    <td>   66.4765</td> <td>   12.590</td> <td>    5.280</td> <td> 0.000</td> <td>   41.134</td> <td>   91.819</td>\n",
       "</tr>\n",
       "<tr>\n",
       "  <th>metro_res</th>    <td>   -0.0563</td> <td>    0.020</td> <td>   -2.881</td> <td> 0.006</td> <td>   -0.096</td> <td>   -0.017</td>\n",
       "</tr>\n",
       "<tr>\n",
       "  <th>white</th>        <td>   -0.0481</td> <td>    0.033</td> <td>   -1.456</td> <td> 0.152</td> <td>   -0.115</td> <td>    0.018</td>\n",
       "</tr>\n",
       "<tr>\n",
       "  <th>hs_grad</th>      <td>   -0.5547</td> <td>    0.105</td> <td>   -5.288</td> <td> 0.000</td> <td>   -0.766</td> <td>   -0.344</td>\n",
       "</tr>\n",
       "<tr>\n",
       "  <th>female_house</th> <td>    0.0505</td> <td>    0.243</td> <td>    0.208</td> <td> 0.836</td> <td>   -0.439</td> <td>    0.540</td>\n",
       "</tr>\n",
       "</table>\n",
       "<table class=\"simpletable\">\n",
       "<tr>\n",
       "  <th>Omnibus:</th>       <td> 3.254</td> <th>  Durbin-Watson:     </th> <td>   1.891</td>\n",
       "</tr>\n",
       "<tr>\n",
       "  <th>Prob(Omnibus):</th> <td> 0.197</td> <th>  Jarque-Bera (JB):  </th> <td>   3.043</td>\n",
       "</tr>\n",
       "<tr>\n",
       "  <th>Skew:</th>          <td> 0.585</td> <th>  Prob(JB):          </th> <td>   0.218</td>\n",
       "</tr>\n",
       "<tr>\n",
       "  <th>Kurtosis:</th>      <td> 2.750</td> <th>  Cond. No.          </th> <td>6.50e+03</td>\n",
       "</tr>\n",
       "</table>"
      ],
      "text/plain": [
       "<class 'statsmodels.iolib.summary.Summary'>\n",
       "\"\"\"\n",
       "                            OLS Regression Results                            \n",
       "==============================================================================\n",
       "Dep. Variable:                poverty   R-squared:                       0.642\n",
       "Model:                            OLS   Adj. R-squared:                  0.610\n",
       "Method:                 Least Squares   F-statistic:                     20.58\n",
       "Date:                Thu, 18 May 2017   Prob (F-statistic):           8.88e-10\n",
       "Time:                        17:09:45   Log-Likelihood:                -103.39\n",
       "No. Observations:                  51   AIC:                             216.8\n",
       "Df Residuals:                      46   BIC:                             226.4\n",
       "Df Model:                           4                                         \n",
       "Covariance Type:            nonrobust                                         \n",
       "================================================================================\n",
       "                   coef    std err          t      P>|t|      [0.025      0.975]\n",
       "--------------------------------------------------------------------------------\n",
       "Intercept       66.4765     12.590      5.280      0.000      41.134      91.819\n",
       "metro_res       -0.0563      0.020     -2.881      0.006      -0.096      -0.017\n",
       "white           -0.0481      0.033     -1.456      0.152      -0.115       0.018\n",
       "hs_grad         -0.5547      0.105     -5.288      0.000      -0.766      -0.344\n",
       "female_house     0.0505      0.243      0.208      0.836      -0.439       0.540\n",
       "==============================================================================\n",
       "Omnibus:                        3.254   Durbin-Watson:                   1.891\n",
       "Prob(Omnibus):                  0.197   Jarque-Bera (JB):                3.043\n",
       "Skew:                           0.585   Prob(JB):                        0.218\n",
       "Kurtosis:                       2.750   Cond. No.                     6.50e+03\n",
       "==============================================================================\n",
       "\n",
       "Warnings:\n",
       "[1] Standard Errors assume that the covariance matrix of the errors is correctly specified.\n",
       "[2] The condition number is large, 6.5e+03. This might indicate that there are\n",
       "strong multicollinearity or other numerical problems.\n",
       "\"\"\""
      ]
     },
     "execution_count": 161,
     "metadata": {},
     "output_type": "execute_result"
    }
   ],
   "source": [
    "# print a summary of the fitted model\n",
    "lm.summary()"
   ]
  },
  {
   "cell_type": "code",
   "execution_count": 179,
   "metadata": {},
   "outputs": [
    {
     "data": {
      "text/plain": [
       "(0.61834007507441036,\n",
       " 0.60112277789143176,\n",
       " 0.54989845418848426,\n",
       " 0.38693458508131862)"
      ]
     },
     "execution_count": 179,
     "metadata": {},
     "output_type": "execute_result"
    }
   ],
   "source": [
    "# try to build better model by increasing Adj. R-squared by removing different values\n",
    "lm1 = smf.ols(formula='poverty ~ metro_res + white + hs_grad', data=data).fit()\n",
    "lm2 = smf.ols(formula='poverty ~ metro_res + hs_grad + female_house', data=data).fit()\n",
    "lm3= smf.ols(formula='poverty ~ white + hs_grad + female_house', data=data).fit()\n",
    "lm4 = smf.ols(formula='poverty ~ metro_res + white + female_house', data=data).fit()\n",
    "(lm1.rsquared_adj, lm2.rsquared_adj, lm3.rsquared_adj, lm4.rsquared_adj)\n",
    "\n",
    "# lm1.rsquared_adj is best model beacuse value is biggest"
   ]
  },
  {
   "cell_type": "code",
   "execution_count": 181,
   "metadata": {},
   "outputs": [
    {
     "data": {
      "text/plain": [
       "(0.17080221297932097, 0.57726982189993647, 0.5582222691253651)"
      ]
     },
     "execution_count": 181,
     "metadata": {},
     "output_type": "execute_result"
    }
   ],
   "source": [
    "# we can try to make it much better in same way with new model\n",
    "lm1 = smf.ols(formula='poverty ~ metro_res + white', data=data).fit()\n",
    "lm2 = smf.ols(formula='poverty ~ metro_res + hs_grad', data=data).fit()\n",
    "lm3 = smf.ols(formula='poverty ~ white + hs_grad', data=data).fit()\n",
    "(lm1.rsquared_adj, lm2.rsquared_adj, lm3.rsquared_adj)\n",
    "\n",
    "# there is no better model because all is less than previous value, so we stick with last where\n",
    "# Adj. R-squared was equal 0.62 - 'poverty ~ metro_res + white + hs_grad'"
   ]
  },
  {
   "cell_type": "code",
   "execution_count": 183,
   "metadata": {},
   "outputs": [
    {
     "data": {
      "text/html": [
       "<table class=\"simpletable\">\n",
       "<caption>OLS Regression Results</caption>\n",
       "<tr>\n",
       "  <th>Dep. Variable:</th>         <td>poverty</td>     <th>  R-squared:         </th> <td>   0.641</td>\n",
       "</tr>\n",
       "<tr>\n",
       "  <th>Model:</th>                   <td>OLS</td>       <th>  Adj. R-squared:    </th> <td>   0.618</td>\n",
       "</tr>\n",
       "<tr>\n",
       "  <th>Method:</th>             <td>Least Squares</td>  <th>  F-statistic:       </th> <td>   28.00</td>\n",
       "</tr>\n",
       "<tr>\n",
       "  <th>Date:</th>             <td>Thu, 18 May 2017</td> <th>  Prob (F-statistic):</th> <td>1.55e-10</td>\n",
       "</tr>\n",
       "<tr>\n",
       "  <th>Time:</th>                 <td>18:02:34</td>     <th>  Log-Likelihood:    </th> <td> -103.41</td>\n",
       "</tr>\n",
       "<tr>\n",
       "  <th>No. Observations:</th>      <td>    51</td>      <th>  AIC:               </th> <td>   214.8</td>\n",
       "</tr>\n",
       "<tr>\n",
       "  <th>Df Residuals:</th>          <td>    47</td>      <th>  BIC:               </th> <td>   222.5</td>\n",
       "</tr>\n",
       "<tr>\n",
       "  <th>Df Model:</th>              <td>     3</td>      <th>                     </th>     <td> </td>   \n",
       "</tr>\n",
       "<tr>\n",
       "  <th>Covariance Type:</th>      <td>nonrobust</td>    <th>                     </th>     <td> </td>   \n",
       "</tr>\n",
       "</table>\n",
       "<table class=\"simpletable\">\n",
       "<tr>\n",
       "      <td></td>         <th>coef</th>     <th>std err</th>      <th>t</th>      <th>P>|t|</th>  <th>[0.025</th>    <th>0.975]</th>  \n",
       "</tr>\n",
       "<tr>\n",
       "  <th>Intercept</th> <td>   68.7220</td> <td>    6.389</td> <td>   10.756</td> <td> 0.000</td> <td>   55.869</td> <td>   81.575</td>\n",
       "</tr>\n",
       "<tr>\n",
       "  <th>metro_res</th> <td>   -0.0555</td> <td>    0.019</td> <td>   -2.926</td> <td> 0.005</td> <td>   -0.094</td> <td>   -0.017</td>\n",
       "</tr>\n",
       "<tr>\n",
       "  <th>white</th>     <td>   -0.0533</td> <td>    0.021</td> <td>   -2.483</td> <td> 0.017</td> <td>   -0.097</td> <td>   -0.010</td>\n",
       "</tr>\n",
       "<tr>\n",
       "  <th>hs_grad</th>   <td>   -0.5697</td> <td>    0.075</td> <td>   -7.569</td> <td> 0.000</td> <td>   -0.721</td> <td>   -0.418</td>\n",
       "</tr>\n",
       "</table>\n",
       "<table class=\"simpletable\">\n",
       "<tr>\n",
       "  <th>Omnibus:</th>       <td> 3.479</td> <th>  Durbin-Watson:     </th> <td>   1.900</td>\n",
       "</tr>\n",
       "<tr>\n",
       "  <th>Prob(Omnibus):</th> <td> 0.176</td> <th>  Jarque-Bera (JB):  </th> <td>   3.230</td>\n",
       "</tr>\n",
       "<tr>\n",
       "  <th>Skew:</th>          <td> 0.607</td> <th>  Prob(JB):          </th> <td>   0.199</td>\n",
       "</tr>\n",
       "<tr>\n",
       "  <th>Kurtosis:</th>      <td> 2.787</td> <th>  Cond. No.          </th> <td>3.32e+03</td>\n",
       "</tr>\n",
       "</table>"
      ],
      "text/plain": [
       "<class 'statsmodels.iolib.summary.Summary'>\n",
       "\"\"\"\n",
       "                            OLS Regression Results                            \n",
       "==============================================================================\n",
       "Dep. Variable:                poverty   R-squared:                       0.641\n",
       "Model:                            OLS   Adj. R-squared:                  0.618\n",
       "Method:                 Least Squares   F-statistic:                     28.00\n",
       "Date:                Thu, 18 May 2017   Prob (F-statistic):           1.55e-10\n",
       "Time:                        18:02:34   Log-Likelihood:                -103.41\n",
       "No. Observations:                  51   AIC:                             214.8\n",
       "Df Residuals:                      47   BIC:                             222.5\n",
       "Df Model:                           3                                         \n",
       "Covariance Type:            nonrobust                                         \n",
       "==============================================================================\n",
       "                 coef    std err          t      P>|t|      [0.025      0.975]\n",
       "------------------------------------------------------------------------------\n",
       "Intercept     68.7220      6.389     10.756      0.000      55.869      81.575\n",
       "metro_res     -0.0555      0.019     -2.926      0.005      -0.094      -0.017\n",
       "white         -0.0533      0.021     -2.483      0.017      -0.097      -0.010\n",
       "hs_grad       -0.5697      0.075     -7.569      0.000      -0.721      -0.418\n",
       "==============================================================================\n",
       "Omnibus:                        3.479   Durbin-Watson:                   1.900\n",
       "Prob(Omnibus):                  0.176   Jarque-Bera (JB):                3.230\n",
       "Skew:                           0.607   Prob(JB):                        0.199\n",
       "Kurtosis:                       2.787   Cond. No.                     3.32e+03\n",
       "==============================================================================\n",
       "\n",
       "Warnings:\n",
       "[1] Standard Errors assume that the covariance matrix of the errors is correctly specified.\n",
       "[2] The condition number is large, 3.32e+03. This might indicate that there are\n",
       "strong multicollinearity or other numerical problems.\n",
       "\"\"\""
      ]
     },
     "execution_count": 183,
     "metadata": {},
     "output_type": "execute_result"
    }
   ],
   "source": [
    "lm = smf.ols(formula='poverty ~ metro_res + white + hs_grad', data=data).fit()\n",
    "lm.summary()"
   ]
  },
  {
   "cell_type": "code",
   "execution_count": null,
   "metadata": {
    "collapsed": true
   },
   "outputs": [],
   "source": []
  }
 ],
 "metadata": {
  "kernelspec": {
   "display_name": "Python 3",
   "language": "python",
   "name": "python3"
  },
  "language_info": {
   "codemirror_mode": {
    "name": "ipython",
    "version": 2
   },
   "file_extension": ".py",
   "mimetype": "text/x-python",
   "name": "python",
   "nbconvert_exporter": "python",
   "pygments_lexer": "ipython2",
   "version": "2.7.12"
  }
 },
 "nbformat": 4,
 "nbformat_minor": 2
}
